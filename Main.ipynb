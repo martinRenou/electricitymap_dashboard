{
 "cells": [
  {
   "cell_type": "code",
   "execution_count": 8,
   "id": "96812ede-70cf-4bcf-bec9-51bb8f65ad1d",
   "metadata": {},
   "outputs": [],
   "source": [
    "from ipyleaflet import Map, GeoJSON, WidgetControl, FullScreenControl, ZoomControl, Marker, Popup\n",
    "from ipywidgets import Output, HBox,VBox, HTML\n",
    "import bqplot.pyplot as plt\n",
    "from bqplot import DateScale, LinearScale,OrdinalScale, Bars, Axis, Figure,CATEGORY10\n",
    "from geopy.geocoders import Nominatim\n",
    "import asyncio\n",
    "from ipyflex import FlexLayout \n",
    "import json \n",
    "import os\n",
    "import configparser\n",
    "import json\n",
    "import random\n",
    "import requests\n",
    "import Functions as fct\n",
    "import ipywidgets as widgets \n",
    "config = configparser.ConfigParser() \n",
    "config.read('.config')\n",
    "token = config['DEFAULT']['token']\n"
   ]
  },
  {
   "cell_type": "code",
   "execution_count": 9,
   "id": "bb3007f2-9c27-4f00-8354-31e591cd528e",
   "metadata": {},
   "outputs": [],
   "source": [
    "if not os.path.exists('countries.geojson'):\n",
    "    url = 'https://github.com/datasets/geo-countries/blob/master/data/countries.geojson'\n",
    "    r = requests.get(url)\n",
    "    with open('countries_copy', 'w') as f:\n",
    "        f.write(r.content.decode(\"utf-8\"))\n",
    "   \n",
    "with open('countries.geojson', 'r') as f:\n",
    "    data = json.load(f)\n",
    "def random_color(feature):\n",
    "    return {\n",
    "        'color': 'black',\n",
    "        'fillColor': random.choice(['red', 'yellow', 'green', 'orange']),\n",
    "    }\n",
    "geo_json = GeoJSON(\n",
    "    data=data,\n",
    "    style={\n",
    "        'opacity': 1, 'dashArray': '9', 'fillOpacity': 0.1, 'weight': 1\n",
    "    },\n",
    "    hover_style={\n",
    "        'color': 'white', 'dashArray': '0', 'fillOpacity': 0.5\n",
    "    },\n",
    "    style_callback=random_color\n",
    ")\n",
    "m = Map(center=(50.6252978589571, 0.34580993652344), zoom=2)\n",
    "\n",
    "geo_json_layer = GeoJSON(data=geo_json.data)\n",
    "m.add_layer(geo_json_layer)\n"
   ]
  },
  {
   "cell_type": "code",
   "execution_count": 10,
   "id": "606d0885-e98e-486d-873b-b4bbc84b4ab8",
   "metadata": {},
   "outputs": [],
   "source": [
    "box = VBox()\n",
    "axes_options_1 = {\n",
    "    \"x\": {\"label\": \"Time\",\"label_style\": {\"font-size\": \"3px\"}},\n",
    "    \"y\": {\"label\": \"Power Consumption (MWh)\", \"label_offset\": \"6ex\",\"label_font_size\": \"3px\"},\n",
    "}\n",
    "axes_options_2 = {\n",
    "    \"x\": {\"label\": \"Time\",\"label_offset\": \"6ex\"},\n",
    "    \"y\": {\"label\": \"Power Value\", \"label_offset\": \"6ex\"},\n",
    "}\n",
    "axes_options_3 = {\n",
    "    \"x\": {\"label\": \"Source Energie\",\"label_offset\": \"6ex\"},\n",
    "    \"y\": {\"label\": \"Value (MWh)\", \"label_offset\": \"6ex\"},\n",
    "}\n",
    "axes_options_4 = {\n",
    "    \"x\": {\"label\": \"Country\",\"label_offset\": \"6ex\"},\n",
    "    \"y\": {\"label\": \"Value (MWh)\", \"label_offset\": \"6ex\"},\n",
    "}\n"
   ]
  },
  {
   "cell_type": "code",
   "execution_count": 13,
   "id": "35a11da4-4ae5-431c-aa35-ad4857a1a115",
   "metadata": {
    "scrolled": true
   },
   "outputs": [
    {
     "data": {
      "application/vnd.jupyter.widget-view+json": {
       "model_id": "5f1e14a5cf5848b1be3709a3d40c2da5",
       "version_major": 2,
       "version_minor": 0
      },
      "text/plain": [
       "VBox(children=(Map(bottom=544.0, center=[50.6252978589571, 0.34580993652344], controls=(ZoomControl(options=['…"
      ]
     },
     "execution_count": 13,
     "metadata": {},
     "output_type": "execute_result"
    }
   ],
   "source": [
    "#Hourly_Power_Consumption_fig\n",
    "x_ord1 = DateScale()\n",
    "y_sc1 = LinearScale()\n",
    "\n",
    "bar = Bars(scales={'x': x_ord1, 'y': y_sc1}, colors=['blue'], padding=0.2)\n",
    "\n",
    "ax_x = Axis(scale=x_ord1, **axes_options_1[\"x\"])\n",
    "ax_y = Axis(scale=y_sc1, orientation='vertical', tick_format='0.1e', **axes_options_1[\"y\"])\n",
    "\n",
    "Hourly_Power_Consumption_fig = Figure(marks=[bar], axes=[ax_x, ax_y], \n",
    "             animation_duration=1000, legend_style=dict(fill=\"var(--jp-layout-color0)\"),\n",
    "             legend_location=\"bottom-left\")\n",
    "Hourly_Power_Consumption_fig.axes[0].tick_style = {'font-size': '10px'}  \n",
    "Hourly_Power_Consumption_fig.axes[1].tick_style = {'font-size': '10px'} \n",
    "Hourly_Power_Consumption_fig.layout.width = '50%'  \n",
    "axes = plt.axes(options=axes_options_1)\n",
    "\n",
    "#Import Export Chart \n",
    "\n",
    "x_scale = DateScale()\n",
    "y_scale = LinearScale()\n",
    "\n",
    "Exp_bar = Bars(scales={\"x\": x_scale, \"y\": y_scale}, padding=0.2,  colors=['blue'])\n",
    "Imp_bar = Bars(scales={\"x\": x_scale, \"y\": y_scale}, padding=0.2, colors=['red'])\n",
    "\n",
    "ax_x = Axis(scale=x_scale,**axes_options_2[\"x\"])\n",
    "ax_y = Axis(scale=y_scale, orientation=\"vertical\", tick_format=\"0.2f\",**axes_options_2[\"y\"])\n",
    "\n",
    "Exp_fig = Figure(axes=[ax_x, ax_y], animation_duration=1000)\n",
    "Imp_fig=Figure(axes=[ax_x, ax_y], animation_duration=1000)\n",
    "\n",
    "Exp_fig.marks = [Exp_bar]\n",
    "Imp_fig.marks = [Imp_bar]\n",
    "\n",
    "fig_exp_imp = widgets.HBox([Exp_fig, Imp_fig])\n",
    "\n",
    "Exp_fig.axes[0].tick_style = {'font-size': '10px'}  \n",
    "Exp_fig.axes[1].tick_style = {'font-size': '10px'}  \n",
    "Imp_fig.axes[0].tick_style = {'font-size': '10px'}\n",
    "Imp_fig.axes[1].tick_style = {'font-size': '10px'}\n",
    "\n",
    "fig_exp_imp.layout.width = '50%'  \n",
    "\n",
    "# Power by source chart \n",
    "x_scale = OrdinalScale()\n",
    "y_scale = LinearScale()\n",
    "\n",
    "bar_S = Bars(scales={\"x\": x_scale, \"y\": y_scale}, padding=0.2, colors=CATEGORY10, color_mode=\"group\")\n",
    "\n",
    "ax_x = Axis(scale=x_scale, **axes_options_3[\"x\"])\n",
    "ax_y = Axis(scale=y_scale, orientation=\"vertical\", tick_format=\"0.2f\", **axes_options_3[\"y\"])\n",
    "\n",
    "bar_S.orientation = \"horizontal\"\n",
    "ax_x.orientation = \"vertical\"\n",
    "ax_y.orientation = \"horizontal\"\n",
    "\n",
    "source_fig = Figure(axes=[ax_x, ax_y], animation_duration=1000, \n",
    "                    axes_options=axes_options_3)\n",
    "source_fig.axes[0].tick_style = {'font-size': '6px', 'font-weight': 'bold'}  # Pour l'axe x\n",
    "source_fig.axes[1].tick_style = {'font-size': '10px'}  # Pour l'axe x\n",
    "\n",
    "source_fig.marks = [bar_S]\n",
    "#Power imported by country\n",
    "x_ord3 = OrdinalScale()\n",
    "y_sc3 = LinearScale()\n",
    "\n",
    "bar_C = Bars(scales={\"x\": x_ord3, \"y\": y_sc3}, padding=0.1, colors=CATEGORY10, color_mode=\"group\")\n",
    "ax_x = Axis(scale=x_ord3,**axes_options_4[\"x\"])\n",
    "ax_y = Axis(scale=y_sc3, orientation=\"vertical\", tick_format=\"0.2f\",**axes_options_4[\"y\"])\n",
    "\n",
    "source_fig_c = Figure(axes=[ax_x, ax_y], animation_duration=1000, \n",
    "                    axes_options=axes_options_3)\n",
    "source_fig_c.axes[0].tick_style = {'font-size': '10px'}  \n",
    "source_fig_c.axes[1].tick_style = {'font-size': '10px'}  # Pour l'axe x\n",
    "\n",
    "source_fig_c.marks = [bar_C]\n",
    "\n",
    "def handle_click(event, feature, **kwargs):\n",
    "    country = feature['properties']['ADMIN']\n",
    "    \n",
    "    Hourly_Power_Consumption_fig.title=\"Hourly Power Consumption {}\".format(country)\n",
    "    fig_exp_imp.title=\"Hourly Power Consumption {}\".format(country)\n",
    "    Exp_fig.title=\"Power Export of {}\".format(country)\n",
    "    Imp_fig.title=\"Power Import of {}\".format(country)\n",
    "    source_fig.title=\"Power by Source {}\".format(country)\n",
    "    source_fig_c.title=\"Power Import by County {}\".format(country)\n",
    "    \n",
    "    task= asyncio.create_task(fct.Hourly_Power_Consumption(country, bar, token))\n",
    "    task1= asyncio.create_task(fct.Hourly_Imp_Exp_Power_Consumption(country, Imp_bar, Exp_bar, token))\n",
    "    task2=asyncio.create_task(fct.Power_Consumption_Source(country,bar_S,token))\n",
    "    task3=asyncio.create_task(fct.Power_Imported_Country(country,bar_C,token))\n",
    "    \n",
    "geo_json_layer.on_click(handle_click)\n",
    "\n",
    "charts_hbox = HBox([Hourly_Power_Consumption_fig,fig_exp_imp])\n",
    "box.children = [m, charts_hbox,source_fig,source_fig_c] \n",
    "\n",
    "box"
   ]
  },
  {
   "cell_type": "code",
   "execution_count": 8,
   "id": "39d2d528-daa0-41f8-860d-72360e2da9a0",
   "metadata": {},
   "outputs": [
    {
     "data": {
      "application/vnd.jupyter.widget-view+json": {
       "model_id": "c7e46b9d7723455db2cf279a62f2e40b",
       "version_major": 2,
       "version_minor": 0
      },
      "text/plain": [
       "FlexLayout(children={'Map': Map(bottom=544.0, center=[50.736455137010665, 0.3515625], controls=(ZoomControl(op…"
      ]
     },
     "execution_count": 8,
     "metadata": {},
     "output_type": "execute_result"
    }
   ],
   "source": [
    "'''w = {\"Map\": m, \"Electricity Production\": charts_hbox, \"Electricity by Origin \": source_fig,\"Electricity imported by country\":source_fig_c}\n",
    "header = dict(title=\"Electricity Production\", buttons=[])\n",
    "FlexLayout(\n",
    "    w,\n",
    "    style={\"height\": \"calc(160vh - 100px)\"},\n",
    "    header=header,\n",
    "    template=\"Electricity_map.json\",\n",
    ")'''"
   ]
  },
  {
   "cell_type": "code",
   "execution_count": null,
   "id": "cdcd491c-fbef-4183-88ca-9b18ce77106d",
   "metadata": {},
   "outputs": [],
   "source": []
  }
 ],
 "metadata": {
  "kernelspec": {
   "display_name": "Python 3 (ipykernel)",
   "language": "python",
   "name": "python3"
  },
  "language_info": {
   "codemirror_mode": {
    "name": "ipython",
    "version": 3
   },
   "file_extension": ".py",
   "mimetype": "text/x-python",
   "name": "python",
   "nbconvert_exporter": "python",
   "pygments_lexer": "ipython3",
   "version": "3.12.2"
  }
 },
 "nbformat": 4,
 "nbformat_minor": 5
}
